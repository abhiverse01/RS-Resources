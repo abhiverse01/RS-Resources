{
  "cells": [
    {
      "cell_type": "markdown",
      "metadata": {
        "id": "view-in-github",
        "colab_type": "text"
      },
      "source": [
        "<a href=\"https://colab.research.google.com/github/abhiverse01/RS-Resources/blob/main/notebooks/AB_Testing.ipynb\" target=\"_parent\"><img src=\"https://colab.research.google.com/assets/colab-badge.svg\" alt=\"Open In Colab\"/></a>"
      ]
    },
    {
      "cell_type": "markdown",
      "metadata": {
        "id": "lYrsicuvvUbQ"
      },
      "source": [
        "# A/B Testing\n",
        "\n",
        "- How do you know if your recommendation system is working?\n",
        "- Amongst different models, which one works better for your customers?\n",
        "\n",
        "We will use A/B Testing.\n",
        "\n",
        "![](img/abtest3.png)\n",
        "\n",
        "![](img/abtest2.gif)\n",
        "\n",
        "\n",
        "\n",
        "How can we tell confidently that one version is better than the other?\n",
        "\n",
        "**Hypothesis Testing**\n",
        "\n",
        "![](img/hypo1.jpg)\n",
        "\n",
        "<br>\n",
        "<br>\n",
        "\n",
        "![](img/hypo2.jpg)\n",
        "\n",
        "`t-test`\n",
        "\n",
        "![](img/ttest1.gif)\n",
        "\n",
        "\n",
        "<br>\n",
        "<br>\n",
        "\n",
        "![](img/ttest2.gif)\n",
        "\n",
        "\n",
        "[reference](https://www.socialresearchmethods.net/kb/stat_t.php)"
      ]
    },
    {
      "cell_type": "markdown",
      "metadata": {
        "id": "DoT_5VE4vUbV"
      },
      "source": [
        "Let's say we have the engagement metrics (# of users click-through rate) for two models. Can you find if model2 is better than model1?"
      ]
    },
    {
      "cell_type": "code",
      "execution_count": null,
      "metadata": {
        "collapsed": true,
        "id": "UilnFg8NvUbV"
      },
      "outputs": [],
      "source": [
        "import pandas as pd"
      ]
    },
    {
      "cell_type": "code",
      "execution_count": null,
      "metadata": {
        "collapsed": true,
        "id": "v8rWm5ODvUbW"
      },
      "outputs": [],
      "source": [
        "abtest_data = pd.read_csv(\"data/abtest.csv\")"
      ]
    },
    {
      "cell_type": "code",
      "execution_count": null,
      "metadata": {
        "id": "cO_LxaRzvUbX",
        "outputId": "0f638406-d475-40cf-cec4-fcdfb2062418"
      },
      "outputs": [
        {
          "data": {
            "text/html": [
              "<div>\n",
              "<style>\n",
              "    .dataframe thead tr:only-child th {\n",
              "        text-align: right;\n",
              "    }\n",
              "\n",
              "    .dataframe thead th {\n",
              "        text-align: left;\n",
              "    }\n",
              "\n",
              "    .dataframe tbody tr th {\n",
              "        vertical-align: top;\n",
              "    }\n",
              "</style>\n",
              "<table border=\"1\" class=\"dataframe\">\n",
              "  <thead>\n",
              "    <tr style=\"text-align: right;\">\n",
              "      <th></th>\n",
              "      <th>Model1</th>\n",
              "      <th>Model2</th>\n",
              "    </tr>\n",
              "  </thead>\n",
              "  <tbody>\n",
              "    <tr>\n",
              "      <th>0</th>\n",
              "      <td>72</td>\n",
              "      <td>96</td>\n",
              "    </tr>\n",
              "    <tr>\n",
              "      <th>1</th>\n",
              "      <td>4</td>\n",
              "      <td>65</td>\n",
              "    </tr>\n",
              "    <tr>\n",
              "      <th>2</th>\n",
              "      <td>14</td>\n",
              "      <td>56</td>\n",
              "    </tr>\n",
              "    <tr>\n",
              "      <th>3</th>\n",
              "      <td>65</td>\n",
              "      <td>56</td>\n",
              "    </tr>\n",
              "    <tr>\n",
              "      <th>4</th>\n",
              "      <td>67</td>\n",
              "      <td>8</td>\n",
              "    </tr>\n",
              "  </tbody>\n",
              "</table>\n",
              "</div>"
            ],
            "text/plain": [
              "   Model1  Model2\n",
              "0      72      96\n",
              "1       4      65\n",
              "2      14      56\n",
              "3      65      56\n",
              "4      67       8"
            ]
          },
          "execution_count": 3,
          "metadata": {},
          "output_type": "execute_result"
        }
      ],
      "source": [
        "abtest_data.head()"
      ]
    },
    {
      "cell_type": "markdown",
      "metadata": {
        "id": "i5QZHdQmvUbY"
      },
      "source": [
        "The data has the CTR for both the models for the past 3 days - hour-wise."
      ]
    },
    {
      "cell_type": "markdown",
      "metadata": {
        "id": "aIaxjjV6vUbZ"
      },
      "source": [
        "\n",
        "**t-test**"
      ]
    },
    {
      "cell_type": "code",
      "execution_count": null,
      "metadata": {
        "collapsed": true,
        "id": "GMoCtVJSvUbZ"
      },
      "outputs": [],
      "source": [
        "from scipy import stats"
      ]
    },
    {
      "cell_type": "code",
      "execution_count": null,
      "metadata": {
        "id": "w3zwW0sZvUba",
        "outputId": "bb72f9ab-0985-47ec-d274-9a51e37a97e6"
      },
      "outputs": [
        {
          "data": {
            "text/plain": [
              "Ttest_indResult(statistic=-0.75668506117068168, pvalue=0.45049219073782243)"
            ]
          },
          "execution_count": 5,
          "metadata": {},
          "output_type": "execute_result"
        }
      ],
      "source": [
        "stats.ttest_ind(abtest_data.Model1,abtest_data.Model2)"
      ]
    },
    {
      "cell_type": "code",
      "execution_count": null,
      "metadata": {
        "collapsed": true,
        "id": "3kdX4QFdvUba"
      },
      "outputs": [],
      "source": []
    }
  ],
  "metadata": {
    "kernelspec": {
      "display_name": "Python 3",
      "language": "python",
      "name": "python3"
    },
    "language_info": {
      "codemirror_mode": {
        "name": "ipython",
        "version": 3
      },
      "file_extension": ".py",
      "mimetype": "text/x-python",
      "name": "python",
      "nbconvert_exporter": "python",
      "pygments_lexer": "ipython3",
      "version": "3.6.3"
    },
    "colab": {
      "provenance": [],
      "include_colab_link": true
    }
  },
  "nbformat": 4,
  "nbformat_minor": 0
}